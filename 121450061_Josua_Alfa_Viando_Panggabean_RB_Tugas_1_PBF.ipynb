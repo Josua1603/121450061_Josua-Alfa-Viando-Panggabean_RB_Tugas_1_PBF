{
  "nbformat": 4,
  "nbformat_minor": 0,
  "metadata": {
    "colab": {
      "provenance": []
    },
    "kernelspec": {
      "name": "python3",
      "display_name": "Python 3"
    },
    "language_info": {
      "name": "python"
    }
  },
  "cells": [
    {
      "cell_type": "markdown",
      "source": [
        "# 1.   Jelaskan menggunakan tabel mengenai kelebihan dan kekurangan paradigma Procedural dibandingkan dengan Object Oriented (minimal 3) !"
      ],
      "metadata": {
        "id": "UzQxkObMB7mM"
      }
    },
    {
      "cell_type": "markdown",
      "source": [
        "# Kelebihan Paradigma procedural dan object oriented:"
      ],
      "metadata": {
        "id": "tNoAuAwLCSAJ"
      }
    },
    {
      "cell_type": "code",
      "execution_count": 1,
      "metadata": {
        "colab": {
          "base_uri": "https://localhost:8080/"
        },
        "id": "lYZ58hIYBv3K",
        "outputId": "ada80ad2-4469-4641-d3d4-86570075565c"
      },
      "outputs": [
        {
          "output_type": "stream",
          "name": "stdout",
          "text": [
            "╒═══════════════════════════════════════════════════════════════════════════════════════════════════╤═════════════════════════════════════════════════════════════════════════════════════════════════════════╕\n",
            "│ Procedural                                                                                        │ Oriented                                                                                                │\n",
            "╞═══════════════════════════════════════════════════════════════════════════════════════════════════╪═════════════════════════════════════════════════════════════════════════════════════════════════════════╡\n",
            "│ Pemrograman Lebih Mudah dipahami dibandingkan onject oriented                                     │ Pemrograman lebih sulit dipahami dibandingkan procedural                                                │\n",
            "├───────────────────────────────────────────────────────────────────────────────────────────────────┼─────────────────────────────────────────────────────────────────────────────────────────────────────────┤\n",
            "│ Mempunyai modularitas yang kompleks didalam sebuah program sehingga data tidak mudah dimodifikasi │ Kurangnya modularitas yang kompleks sehingga didalam sebuah program oriented datanya mudah dimodifikasi │\n",
            "├───────────────────────────────────────────────────────────────────────────────────────────────────┼─────────────────────────────────────────────────────────────────────────────────────────────────────────┤\n",
            "│ Cocok untuk program/aplikasi sederhana                                                            │ Kurang cocok untuk program/aplikasi sederhana                                                           │\n",
            "╘═══════════════════════════════════════════════════════════════════════════════════════════════════╧═════════════════════════════════════════════════════════════════════════════════════════════════════════╛\n"
          ]
        }
      ],
      "source": [
        "from tabulate import tabulate\n",
        "data = [[\"Pemrograman Lebih Mudah dipahami dibandingkan onject oriented\",\"Pemrograman lebih sulit dipahami dibandingkan procedural\"],\n",
        "        [\"Mempunyai modularitas yang kompleks didalam sebuah program sehingga data tidak mudah dimodifikasi\",\"Kurangnya modularitas yang kompleks sehingga didalam sebuah program oriented datanya mudah dimodifikasi\"]\n",
        "        ,[\"Cocok untuk program/aplikasi sederhana\",\"Kurang cocok untuk program/aplikasi sederhana\"]]\n",
        "print(tabulate(data, headers=[\"Procedural\",\"Oriented\"],tablefmt=\"fancy_grid\"))"
      ]
    },
    {
      "cell_type": "markdown",
      "source": [
        "# Kekurangan paradigma procedural dan object oriented :"
      ],
      "metadata": {
        "id": "SYfDSDwsCbDo"
      }
    },
    {
      "cell_type": "code",
      "source": [
        "from tabulate import tabulate\n",
        "data = [[\"Paradigma Prosedural tidak mempunyai access modifiers\",\"sedangkan OOP mempunyainya antara lain protected, public, dan juga private\"],\n",
        "        [\"Mempunyai tingkat keamanan yang rendah dibandingkan oriented\",\"Mempunyai tingkat keamanan yang tinggi\"]\n",
        "        ,[\"Kurang cocok untuk program aplikasi yang kompleks\",\"cocok untuk program aplikasi yang kompleks\"]]\n",
        "print(tabulate(data, headers=[\"Procedural\",\"Oriented\"],tablefmt=\"fancy_grid\"))"
      ],
      "metadata": {
        "colab": {
          "base_uri": "https://localhost:8080/"
        },
        "id": "ybAEffDqCfXr",
        "outputId": "c883674d-7bb6-46c2-c703-b300cf58e95e"
      },
      "execution_count": 2,
      "outputs": [
        {
          "output_type": "stream",
          "name": "stdout",
          "text": [
            "╒══════════════════════════════════════════════════════════════╤════════════════════════════════════════════════════════════════════════════╕\n",
            "│ Procedural                                                   │ Oriented                                                                   │\n",
            "╞══════════════════════════════════════════════════════════════╪════════════════════════════════════════════════════════════════════════════╡\n",
            "│ Paradigma Prosedural tidak mempunyai access modifiers        │ sedangkan OOP mempunyainya antara lain protected, public, dan juga private │\n",
            "├──────────────────────────────────────────────────────────────┼────────────────────────────────────────────────────────────────────────────┤\n",
            "│ Mempunyai tingkat keamanan yang rendah dibandingkan oriented │ Mempunyai tingkat keamanan yang tinggi                                     │\n",
            "├──────────────────────────────────────────────────────────────┼────────────────────────────────────────────────────────────────────────────┤\n",
            "│ Kurang cocok untuk program aplikasi yang kompleks            │ cocok untuk program aplikasi yang kompleks                                 │\n",
            "╘══════════════════════════════════════════════════════════════╧════════════════════════════════════════════════════════════════════════════╛\n"
          ]
        }
      ]
    },
    {
      "cell_type": "markdown",
      "source": [
        "# 2. Jelaskan menggunakan tabel mengenai kelebihan dan kekurangan paradigma Object Oriented dibandingkan dengan Functional (minimal 3) !"
      ],
      "metadata": {
        "id": "kVxraf-kJMmT"
      }
    },
    {
      "cell_type": "markdown",
      "source": [
        "# Kelebihan Object Oriented dibandingkan Functional:"
      ],
      "metadata": {
        "id": "tKRC0FbcJZBB"
      }
    },
    {
      "cell_type": "code",
      "source": [
        "from tabulate import tabulate\n",
        "data = [[\"oriented di support oleh banyak library sehingga mempercepat penyelesaian program\",\"library tidak sebanyak oriented sehingga memerlukan waktu banyak untuk penyelesaian program\"],\n",
        "        [\"Cocok untuk mengerjakan proyek besar karena designnya modular\",\"Kurang cocok untuk mengerjakan proyek besar\"]\n",
        "        ,[\"Sistem Program dapat dikembangankan sampai skala yang paling kompleks\",\"sistem program tidak dapat dikembangkan ke skala yang paling kompleks\"]]\n",
        "print(tabulate(data, headers=[\"oriented\",\"Functional\"],tablefmt=\"fancy_grid\"))\n",
        "     "
      ],
      "metadata": {
        "colab": {
          "base_uri": "https://localhost:8080/"
        },
        "id": "PupNFcrnJc8D",
        "outputId": "42b0180b-2560-4049-e23e-d4caff84d7c3"
      },
      "execution_count": 5,
      "outputs": [
        {
          "output_type": "stream",
          "name": "stdout",
          "text": [
            "╒═══════════════════════════════════════════════════════════════════════════════════╤═════════════════════════════════════════════════════════════════════════════════════════════╕\n",
            "│ oriented                                                                          │ Functional                                                                                  │\n",
            "╞═══════════════════════════════════════════════════════════════════════════════════╪═════════════════════════════════════════════════════════════════════════════════════════════╡\n",
            "│ oriented di support oleh banyak library sehingga mempercepat penyelesaian program │ library tidak sebanyak oriented sehingga memerlukan waktu banyak untuk penyelesaian program │\n",
            "├───────────────────────────────────────────────────────────────────────────────────┼─────────────────────────────────────────────────────────────────────────────────────────────┤\n",
            "│ Cocok untuk mengerjakan proyek besar karena designnya modular                     │ Kurang cocok untuk mengerjakan proyek besar                                                 │\n",
            "├───────────────────────────────────────────────────────────────────────────────────┼─────────────────────────────────────────────────────────────────────────────────────────────┤\n",
            "│ Sistem Program dapat dikembangankan sampai skala yang paling kompleks             │ sistem program tidak dapat dikembangkan ke skala yang paling kompleks                       │\n",
            "╘═══════════════════════════════════════════════════════════════════════════════════╧═════════════════════════════════════════════════════════════════════════════════════════════╛\n"
          ]
        }
      ]
    },
    {
      "cell_type": "markdown",
      "source": [
        "# Kekurangan Object Oriented dibandingkan Functional:"
      ],
      "metadata": {
        "id": "qwf0BBtHJiGS"
      }
    },
    {
      "cell_type": "code",
      "source": [
        "from tabulate import tabulate\n",
        "data = [[\"Ukuran program lebih besar\",\"Ukuran program lebih kecil\"],\n",
        "        [\"Runtime Program oriented lebih lama dibandingkan functional\",\"Runtime program lebih cepat\"]\n",
        "        ,[\"Program oriented lebih kompleks sehingga membutuhkan waktu untuk terbiasa\",\"program tidak begitu kompleks dibandingkan dengan oriented\"]]\n",
        "print(tabulate(data, headers=[\"oriented\",\"Functional\"],tablefmt=\"fancy_grid\"))"
      ],
      "metadata": {
        "colab": {
          "base_uri": "https://localhost:8080/"
        },
        "id": "pdIpbNvAJvHF",
        "outputId": "b0e80423-8986-437f-a418-76977e4fa6a3"
      },
      "execution_count": 4,
      "outputs": [
        {
          "output_type": "stream",
          "name": "stdout",
          "text": [
            "╒═══════════════════════════════════════════════════════════════════════════╤════════════════════════════════════════════════════════════╕\n",
            "│ oriented                                                                  │ Functional                                                 │\n",
            "╞═══════════════════════════════════════════════════════════════════════════╪════════════════════════════════════════════════════════════╡\n",
            "│ Ukuran program lebih besar                                                │ Ukuran program lebih kecil                                 │\n",
            "├───────────────────────────────────────────────────────────────────────────┼────────────────────────────────────────────────────────────┤\n",
            "│ Runtime Program oriented lebih lama dibandingkan functional               │ Runtime program lebih cepat                                │\n",
            "├───────────────────────────────────────────────────────────────────────────┼────────────────────────────────────────────────────────────┤\n",
            "│ Program oriented lebih kompleks sehingga membutuhkan waktu untuk terbiasa │ program tidak begitu kompleks dibandingkan dengan oriented │\n",
            "╘═══════════════════════════════════════════════════════════════════════════╧════════════════════════════════════════════════════════════╛\n"
          ]
        }
      ]
    },
    {
      "cell_type": "markdown",
      "source": [
        "# 3. Jelaskan menggunakan tabel mengenai kelebihan dan kekurangan paradigma Procedural dibandingkan dengan Functional (minimal 3) !"
      ],
      "metadata": {
        "id": "tdNV2FXuJ4PH"
      }
    },
    {
      "cell_type": "markdown",
      "source": [
        "# Kelebihan procedural dibandingkan functional:"
      ],
      "metadata": {
        "id": "A5Ft95EXKJ95"
      }
    },
    {
      "cell_type": "code",
      "source": [
        "from tabulate import tabulate\n",
        "data = [[\"Pengimplementasian algoritma paradigma lebih mudah dipahami untuk pemula\",\"lebih sulit dipahami untuk pemula karena pengimplementasiannya berkutat dengan fungsi sulit dinalar ke dunia nyata\"],\n",
        "        [\"Data bersifat mutable\",\"Data bersifat imutable\"]\n",
        "        ,[\"Penggunaan looping normal\",\"penggunaan looping yang sulit dan mengintimidasi\"]]\n",
        "print(tabulate(data, headers=[\"procedural\",\"Functional\"],tablefmt=\"fancy_grid\"))"
      ],
      "metadata": {
        "colab": {
          "base_uri": "https://localhost:8080/"
        },
        "id": "8ew7hhb8KX7d",
        "outputId": "15a54c8e-ed61-452a-c80a-211cfcdd8756"
      },
      "execution_count": 6,
      "outputs": [
        {
          "output_type": "stream",
          "name": "stdout",
          "text": [
            "╒══════════════════════════════════════════════════════════════════════════╤════════════════════════════════════════════════════════════════════════════════════════════════════════════════════╕\n",
            "│ procedural                                                               │ Functional                                                                                                         │\n",
            "╞══════════════════════════════════════════════════════════════════════════╪════════════════════════════════════════════════════════════════════════════════════════════════════════════════════╡\n",
            "│ Pengimplementasian algoritma paradigma lebih mudah dipahami untuk pemula │ lebih sulit dipahami untuk pemula karena pengimplementasiannya berkutat dengan fungsi sulit dinalar ke dunia nyata │\n",
            "├──────────────────────────────────────────────────────────────────────────┼────────────────────────────────────────────────────────────────────────────────────────────────────────────────────┤\n",
            "│ Data bersifat mutable                                                    │ Data bersifat imutable                                                                                             │\n",
            "├──────────────────────────────────────────────────────────────────────────┼────────────────────────────────────────────────────────────────────────────────────────────────────────────────────┤\n",
            "│ Penggunaan looping normal                                                │ penggunaan looping yang sulit dan mengintimidasi                                                                   │\n",
            "╘══════════════════════════════════════════════════════════════════════════╧════════════════════════════════════════════════════════════════════════════════════════════════════════════════════╛\n"
          ]
        }
      ]
    },
    {
      "cell_type": "markdown",
      "source": [
        "# Kekurangan procedural dibandingkan functional:"
      ],
      "metadata": {
        "id": "GTqI_7koKbcM"
      }
    },
    {
      "cell_type": "code",
      "source": [
        "from tabulate import tabulate\n",
        "data = [[\"proses debug lebih lambat\",\"proses debug lebih cepat\"],\n",
        "        [\"kurang cocok digunakan untuk pengembangan program yang sensitif terhadap data\",\"cocok digunakan untuk pengembangan program yang sensitif terhadap data\"]\n",
        "        ,[\"jarang menggunakan fungsi\",\"penggunaan fungsi lebih kompleks\"]]\n",
        "print(tabulate(data, headers=[\"procedural\",\"Functional\"],tablefmt=\"fancy_grid\"))"
      ],
      "metadata": {
        "colab": {
          "base_uri": "https://localhost:8080/"
        },
        "id": "hlRK_QqMKgCv",
        "outputId": "b2804a6b-8a8b-4468-c1a9-7b2fd072754b"
      },
      "execution_count": 7,
      "outputs": [
        {
          "output_type": "stream",
          "name": "stdout",
          "text": [
            "╒═══════════════════════════════════════════════════════════════════════════════╤════════════════════════════════════════════════════════════════════════╕\n",
            "│ procedural                                                                    │ Functional                                                             │\n",
            "╞═══════════════════════════════════════════════════════════════════════════════╪════════════════════════════════════════════════════════════════════════╡\n",
            "│ proses debug lebih lambat                                                     │ proses debug lebih cepat                                               │\n",
            "├───────────────────────────────────────────────────────────────────────────────┼────────────────────────────────────────────────────────────────────────┤\n",
            "│ kurang cocok digunakan untuk pengembangan program yang sensitif terhadap data │ cocok digunakan untuk pengembangan program yang sensitif terhadap data │\n",
            "├───────────────────────────────────────────────────────────────────────────────┼────────────────────────────────────────────────────────────────────────┤\n",
            "│ jarang menggunakan fungsi                                                     │ penggunaan fungsi lebih kompleks                                       │\n",
            "╘═══════════════════════════════════════════════════════════════════════════════╧════════════════════════════════════════════════════════════════════════╛\n"
          ]
        }
      ]
    },
    {
      "cell_type": "markdown",
      "source": [
        "# 4. Apa yang dimaksud dengan pure functional programming language?"
      ],
      "metadata": {
        "id": "V8aJzmwhKkPl"
      }
    },
    {
      "cell_type": "markdown",
      "source": [
        "Suatu gaya yang membangun struktur dan elemen program komputer yang memperlakukan semua perhitungan sebagai evaluasi fungsi matematika. Pure functional programming memastikan bahwa fungsi dalam paradigma fungsional hanya bergantung pada argumennya, terlepas dari keadaan global atau lokal apa pun."
      ],
      "metadata": {
        "id": "U3OOzI8kKotz"
      }
    },
    {
      "cell_type": "markdown",
      "source": [
        "# 5. Dari bahasa pemrograman FP di slide sebelumnya ( slide 14 ) , manakah yang termasuk pure functional programming language?"
      ],
      "metadata": {
        "id": "LJ9jUJlRN43w"
      }
    },
    {
      "cell_type": "markdown",
      "source": [
        "*   Lisp\n",
        "*   Haskell\n",
        "*   Scala\n",
        "*   Javascript\n",
        "*   Python"
      ],
      "metadata": {
        "id": "0sxp-D78PPRV"
      }
    },
    {
      "cell_type": "markdown",
      "source": [
        "# 6. Membuat program Simple Password encryption, dengan ketentuan :\n"
      ],
      "metadata": {
        "id": "nGju9NYSPfTW"
      }
    },
    {
      "cell_type": "markdown",
      "source": [
        "1. Input password bertipe string dengan batasan panjang password 100 karakter\n",
        "2. Setiap karakter dari string tersebut diubah menjadi ASCII value\n",
        "3. Kemudian setiap ASCII value tersebut dikembangkan menjadi 3 value dengan dilakukan operasi berikut:"
      ],
      "metadata": {
        "id": "AG-kbcnJP2-A"
      }
    },
    {
      "cell_type": "markdown",
      "source": [
        "1. Value pertama dibagi dengan integer 26 kemudian dibulatkan dan dijumlahkan dengan 80 kemudian diubah kembali menjadi karakter\n",
        "\n",
        "2. Value kedua dihitung sisa bagi dengan 26 kemudian dijumlahkan dengan 80 kemudian diubah kembali menjadi karakter\n",
        "\n",
        "3. Value ketiga adalah karakter '+' jika value pertama lebih besar dari value kedua, atau value ketiga adalah karakter '-' jika value pertama tidak lebih besar dari value kedua\n",
        "\n",
        "4. Deretkan value pertama, kedua dan ketiga untuk setiap karakter dalam password tersebut sehingga didapatkan password dalam bentuk baru"
      ],
      "metadata": {
        "id": "AOj6S0xfP62q"
      }
    },
    {
      "cell_type": "code",
      "source": [
        "# encryption\n",
        "def enkripsi(password):\n",
        "  if len(password) > 100 or len(password) == 0:\n",
        "    print(\"Enter 1-100 characters\")\n",
        "  else:\n",
        "    ascii = [str(ord(i)) for i in password]\n",
        "    enkri = ''.join(chr((int(j)//26)+80)+chr((int(j)%26)+80)+('+' if (int(j)//26)+80 > (int(j)%26)+80 else '-') for j in ascii)\n",
        "    print(\"The encryption password is: \", enkri)\n",
        "\n",
        "# Description\n",
        "def dekripsi(password):\n",
        "  split_ps = [(password[k:k+3]) for k in range(0, len(password), 3)]\n",
        "  dekri = ''.join(chr(((ord(list(z)[0])-80)*26)+(ord(list(z)[1])-80)) for z in split_ps)\n",
        "  print(\"The password is: \", dekri)\n",
        "\n",
        "password = input(\"Enter Password: \")\n",
        "enkripsi(password)\n",
        "\n",
        "enk = input(\"Enter the encryption password: \")\n",
        "dekripsi(enk)"
      ],
      "metadata": {
        "colab": {
          "base_uri": "https://localhost:8080/"
        },
        "id": "HRurjqmIQE2i",
        "outputId": "6a354688-5362-4953-9119-12608d6753b5"
      },
      "execution_count": 9,
      "outputs": [
        {
          "output_type": "stream",
          "name": "stdout",
          "text": [
            "Enter Password: akuadalahyangterbaik\n",
            "The encryption password is:  Sc-TS+T]-Sc-Sf-Sc-TT-Sc-TP+Ta-Sc-TV-Si-T\\-Sg-TZ-Sd-Sc-TQ+TS+\n",
            "Enter the encryption password: Sc-TS+T]-Sc-Sf-Sc-TT-Sc-TP+Ta-Sc-TV-Si-T\\-Sg-TZ-Sd-Sc-TQ+TS+\n",
            "The password is:  akuadalahyangterbaik\n"
          ]
        }
      ]
    }
  ]
}